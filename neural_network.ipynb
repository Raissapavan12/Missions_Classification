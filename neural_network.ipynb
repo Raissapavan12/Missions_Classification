{
 "nbformat": 4,
 "nbformat_minor": 2,
 "metadata": {
  "language_info": {
   "name": "python",
   "codemirror_mode": {
    "name": "ipython",
    "version": 3
   },
   "version": "3.6.5-final"
  },
  "orig_nbformat": 2,
  "file_extension": ".py",
  "mimetype": "text/x-python",
  "name": "python",
  "npconvert_exporter": "python",
  "pygments_lexer": "ipython3",
  "version": 3,
  "kernelspec": {
   "name": "python36564bit7516bfb77c474f60a7614eee57ab35ab",
   "display_name": "Python 3.6.5 64-bit"
  }
 },
 "cells": [
  {
   "cell_type": "code",
   "execution_count": 1,
   "metadata": {},
   "outputs": [],
   "source": [
    "import numpy as np\n",
    "import pandas as pd\n",
    "import seaborn as sns\n",
    "import matplotlib.pyplot as plt\n",
    "from sklearn import preprocessing"
   ]
  },
  {
   "cell_type": "code",
   "execution_count": 2,
   "metadata": {},
   "outputs": [
    {
     "name": "stderr",
     "output_type": "stream",
     "text": "Using TensorFlow backend.\n"
    }
   ],
   "source": [
    "import keras\n",
    "\n",
    "from keras.models import Sequential\n",
    "from keras.layers import Dense, Flatten\n",
    "from keras.utils import to_categorical"
   ]
  },
  {
   "cell_type": "code",
   "execution_count": 3,
   "metadata": {},
   "outputs": [],
   "source": [
    "df = pd.read_csv('docs/V8.csv', sep = ';')"
   ]
  },
  {
   "cell_type": "code",
   "execution_count": 4,
   "metadata": {},
   "outputs": [
    {
     "data": {
      "text/plain": "(1804, 15)"
     },
     "execution_count": 4,
     "metadata": {},
     "output_type": "execute_result"
    }
   ],
   "source": [
    "df.shape"
   ]
  },
  {
   "cell_type": "code",
   "execution_count": 5,
   "metadata": {},
   "outputs": [
    {
     "data": {
      "text/plain": "activityId                    0\nworkerId                      3\ndate                          0\ncompanyName                   0\nestablishmentName             0\nnumberOfRuptures              0\nnumberProductsOutStorage      0\nnumberProductsOutShelf        0\nrateRuptures                  0\nrateOutStorage                0\nmixSize                       0\nduration                    513\nnumberOfPictures              0\naverageRating                 0\nmarker                        0\ndtype: int64"
     },
     "execution_count": 5,
     "metadata": {},
     "output_type": "execute_result"
    }
   ],
   "source": [
    "df.isnull().sum()"
   ]
  },
  {
   "cell_type": "code",
   "execution_count": 6,
   "metadata": {},
   "outputs": [
    {
     "data": {
      "text/plain": "(1804, 15)"
     },
     "execution_count": 6,
     "metadata": {},
     "output_type": "execute_result"
    }
   ],
   "source": [
    "df.shape"
   ]
  },
  {
   "cell_type": "code",
   "execution_count": 7,
   "metadata": {},
   "outputs": [],
   "source": [
    "#df['duration'] = df.duration.fillna(0)\n",
    "df = df.dropna()\n",
    "\n",
    "df2 = df.sample(800)\n",
    "df3 = df.sample(200)"
   ]
  },
  {
   "cell_type": "code",
   "execution_count": 8,
   "metadata": {},
   "outputs": [
    {
     "data": {
      "text/html": "<div>\n<style scoped>\n    .dataframe tbody tr th:only-of-type {\n        vertical-align: middle;\n    }\n\n    .dataframe tbody tr th {\n        vertical-align: top;\n    }\n\n    .dataframe thead th {\n        text-align: right;\n    }\n</style>\n<table border=\"1\" class=\"dataframe\">\n  <thead>\n    <tr style=\"text-align: right;\">\n      <th></th>\n      <th>companyName</th>\n      <th>establishmentName</th>\n      <th>numberOfRuptures</th>\n      <th>numberProductsOutStorage</th>\n      <th>numberProductsOutShelf</th>\n      <th>rateRuptures</th>\n      <th>rateOutStorage</th>\n      <th>mixSize</th>\n      <th>duration</th>\n      <th>numberOfPictures</th>\n    </tr>\n  </thead>\n  <tbody>\n    <tr>\n      <th>1297</th>\n      <td>AMABENE (CÂMARA FRIA)</td>\n      <td>Condor - Curitiba - Água Verde</td>\n      <td>1</td>\n      <td>4</td>\n      <td>1</td>\n      <td>0.17</td>\n      <td>0.67</td>\n      <td>6</td>\n      <td>61.0</td>\n      <td>6</td>\n    </tr>\n    <tr>\n      <th>1249</th>\n      <td>LOMAN COGUMELOS</td>\n      <td>Super Muffato - Cascavel - Comercial</td>\n      <td>4</td>\n      <td>3</td>\n      <td>6</td>\n      <td>0.40</td>\n      <td>0.30</td>\n      <td>10</td>\n      <td>29.0</td>\n      <td>2</td>\n    </tr>\n    <tr>\n      <th>240</th>\n      <td>TRINDADE MASSAS (CÂMARA FRIA)</td>\n      <td>Mercado Santos - Santa Candida</td>\n      <td>10</td>\n      <td>22</td>\n      <td>10</td>\n      <td>0.43</td>\n      <td>0.96</td>\n      <td>23</td>\n      <td>24.0</td>\n      <td>4</td>\n    </tr>\n    <tr>\n      <th>881</th>\n      <td>VINHOS TERRAUSTRAL</td>\n      <td>Condor -  Apucarana</td>\n      <td>11</td>\n      <td>16</td>\n      <td>17</td>\n      <td>0.48</td>\n      <td>0.70</td>\n      <td>23</td>\n      <td>174.0</td>\n      <td>21</td>\n    </tr>\n    <tr>\n      <th>122</th>\n      <td>COCA-COLA FEMSA</td>\n      <td>Condor - Araucária - BR</td>\n      <td>87</td>\n      <td>176</td>\n      <td>98</td>\n      <td>0.28</td>\n      <td>0.56</td>\n      <td>314</td>\n      <td>53.0</td>\n      <td>54</td>\n    </tr>\n  </tbody>\n</table>\n</div>",
      "text/plain": "                        companyName                     establishmentName  \\\n1297          AMABENE (CÂMARA FRIA)        Condor - Curitiba - Água Verde   \n1249                LOMAN COGUMELOS  Super Muffato - Cascavel - Comercial   \n240   TRINDADE MASSAS (CÂMARA FRIA)        Mercado Santos - Santa Candida   \n881              VINHOS TERRAUSTRAL                   Condor -  Apucarana   \n122                 COCA-COLA FEMSA               Condor - Araucária - BR   \n\n      numberOfRuptures  numberProductsOutStorage  numberProductsOutShelf  \\\n1297                 1                         4                       1   \n1249                 4                         3                       6   \n240                 10                        22                      10   \n881                 11                        16                      17   \n122                 87                       176                      98   \n\n      rateRuptures  rateOutStorage  mixSize  duration  numberOfPictures  \n1297          0.17            0.67        6      61.0                 6  \n1249          0.40            0.30       10      29.0                 2  \n240           0.43            0.96       23      24.0                 4  \n881           0.48            0.70       23     174.0                21  \n122           0.28            0.56      314      53.0                54  "
     },
     "execution_count": 8,
     "metadata": {},
     "output_type": "execute_result"
    }
   ],
   "source": [
    "#Separando dados e cassificador\n",
    "df_columns = df2.columns\n",
    "\n",
    "X_train = df2[df_columns[(df_columns != 'marker') & (df_columns != 'averageRating') & (df_columns != 'activityId') & (df_columns != 'workerId') & (df_columns != 'date')]]\n",
    "y_train = df2['marker']\n",
    "\n",
    "X_train.head()"
   ]
  },
  {
   "cell_type": "code",
   "execution_count": 9,
   "metadata": {},
   "outputs": [
    {
     "data": {
      "text/html": "<div>\n<style scoped>\n    .dataframe tbody tr th:only-of-type {\n        vertical-align: middle;\n    }\n\n    .dataframe tbody tr th {\n        vertical-align: top;\n    }\n\n    .dataframe thead th {\n        text-align: right;\n    }\n</style>\n<table border=\"1\" class=\"dataframe\">\n  <thead>\n    <tr style=\"text-align: right;\">\n      <th></th>\n      <th>companyName</th>\n      <th>establishmentName</th>\n      <th>numberOfRuptures</th>\n      <th>numberProductsOutStorage</th>\n      <th>numberProductsOutShelf</th>\n      <th>rateRuptures</th>\n      <th>rateOutStorage</th>\n      <th>mixSize</th>\n      <th>duration</th>\n      <th>numberOfPictures</th>\n    </tr>\n  </thead>\n  <tbody>\n    <tr>\n      <th>1297</th>\n      <td>0</td>\n      <td>53</td>\n      <td>1</td>\n      <td>4</td>\n      <td>1</td>\n      <td>0.17</td>\n      <td>0.67</td>\n      <td>6</td>\n      <td>61.0</td>\n      <td>6</td>\n    </tr>\n    <tr>\n      <th>1249</th>\n      <td>20</td>\n      <td>119</td>\n      <td>4</td>\n      <td>3</td>\n      <td>6</td>\n      <td>0.40</td>\n      <td>0.30</td>\n      <td>10</td>\n      <td>29.0</td>\n      <td>2</td>\n    </tr>\n    <tr>\n      <th>240</th>\n      <td>38</td>\n      <td>86</td>\n      <td>10</td>\n      <td>22</td>\n      <td>10</td>\n      <td>0.43</td>\n      <td>0.96</td>\n      <td>23</td>\n      <td>24.0</td>\n      <td>4</td>\n    </tr>\n    <tr>\n      <th>881</th>\n      <td>41</td>\n      <td>19</td>\n      <td>11</td>\n      <td>16</td>\n      <td>17</td>\n      <td>0.48</td>\n      <td>0.70</td>\n      <td>23</td>\n      <td>174.0</td>\n      <td>21</td>\n    </tr>\n    <tr>\n      <th>122</th>\n      <td>6</td>\n      <td>29</td>\n      <td>87</td>\n      <td>176</td>\n      <td>98</td>\n      <td>0.28</td>\n      <td>0.56</td>\n      <td>314</td>\n      <td>53.0</td>\n      <td>54</td>\n    </tr>\n  </tbody>\n</table>\n</div>",
      "text/plain": "      companyName  establishmentName  numberOfRuptures  \\\n1297            0                 53                 1   \n1249           20                119                 4   \n240            38                 86                10   \n881            41                 19                11   \n122             6                 29                87   \n\n      numberProductsOutStorage  numberProductsOutShelf  rateRuptures  \\\n1297                         4                       1          0.17   \n1249                         3                       6          0.40   \n240                         22                      10          0.43   \n881                         16                      17          0.48   \n122                        176                      98          0.28   \n\n      rateOutStorage  mixSize  duration  numberOfPictures  \n1297            0.67        6      61.0                 6  \n1249            0.30       10      29.0                 2  \n240             0.96       23      24.0                 4  \n881             0.70       23     174.0                21  \n122             0.56      314      53.0                54  "
     },
     "execution_count": 9,
     "metadata": {},
     "output_type": "execute_result"
    }
   ],
   "source": [
    "#Criar label encoder para váriaveis categoricas\n",
    "le = preprocessing.LabelEncoder()\n",
    "X_train['companyName'] = le.fit_transform(X_train['companyName'].astype(str))\n",
    "X_train['establishmentName'] = le.fit_transform(X_train['establishmentName'].astype(str))\n",
    "X_train.head()"
   ]
  },
  {
   "cell_type": "code",
   "execution_count": 10,
   "metadata": {},
   "outputs": [
    {
     "name": "stdout",
     "output_type": "stream",
     "text": "2\n"
    }
   ],
   "source": [
    "#tranformar classificador em categorias\n",
    "y_train = to_categorical(y_train)\n",
    "\n",
    "num_classes = y_train.shape[1]\n",
    "print(num_classes)"
   ]
  },
  {
   "cell_type": "code",
   "execution_count": 11,
   "metadata": {},
   "outputs": [
    {
     "data": {
      "text/html": "<div>\n<style scoped>\n    .dataframe tbody tr th:only-of-type {\n        vertical-align: middle;\n    }\n\n    .dataframe tbody tr th {\n        vertical-align: top;\n    }\n\n    .dataframe thead th {\n        text-align: right;\n    }\n</style>\n<table border=\"1\" class=\"dataframe\">\n  <thead>\n    <tr style=\"text-align: right;\">\n      <th></th>\n      <th>companyName</th>\n      <th>establishmentName</th>\n      <th>numberOfRuptures</th>\n      <th>numberProductsOutStorage</th>\n      <th>numberProductsOutShelf</th>\n      <th>rateRuptures</th>\n      <th>rateOutStorage</th>\n      <th>mixSize</th>\n      <th>duration</th>\n      <th>numberOfPictures</th>\n    </tr>\n  </thead>\n  <tbody>\n    <tr>\n      <th>3</th>\n      <td>25</td>\n      <td>104</td>\n      <td>9</td>\n      <td>16</td>\n      <td>9</td>\n      <td>0.56</td>\n      <td>1.00</td>\n      <td>16</td>\n      <td>13.0</td>\n      <td>6</td>\n    </tr>\n    <tr>\n      <th>555</th>\n      <td>14</td>\n      <td>89</td>\n      <td>9</td>\n      <td>10</td>\n      <td>9</td>\n      <td>0.90</td>\n      <td>1.00</td>\n      <td>10</td>\n      <td>15.0</td>\n      <td>4</td>\n    </tr>\n    <tr>\n      <th>1038</th>\n      <td>15</td>\n      <td>43</td>\n      <td>0</td>\n      <td>0</td>\n      <td>0</td>\n      <td>0.00</td>\n      <td>0.00</td>\n      <td>3</td>\n      <td>59.0</td>\n      <td>6</td>\n    </tr>\n    <tr>\n      <th>535</th>\n      <td>11</td>\n      <td>108</td>\n      <td>79</td>\n      <td>80</td>\n      <td>80</td>\n      <td>0.92</td>\n      <td>0.93</td>\n      <td>86</td>\n      <td>28.0</td>\n      <td>4</td>\n    </tr>\n    <tr>\n      <th>481</th>\n      <td>18</td>\n      <td>71</td>\n      <td>6</td>\n      <td>6</td>\n      <td>6</td>\n      <td>0.75</td>\n      <td>0.75</td>\n      <td>8</td>\n      <td>38.0</td>\n      <td>2</td>\n    </tr>\n  </tbody>\n</table>\n</div>",
      "text/plain": "      companyName  establishmentName  numberOfRuptures  \\\n3              25                104                 9   \n555            14                 89                 9   \n1038           15                 43                 0   \n535            11                108                79   \n481            18                 71                 6   \n\n      numberProductsOutStorage  numberProductsOutShelf  rateRuptures  \\\n3                           16                       9          0.56   \n555                         10                       9          0.90   \n1038                         0                       0          0.00   \n535                         80                      80          0.92   \n481                          6                       6          0.75   \n\n      rateOutStorage  mixSize  duration  numberOfPictures  \n3               1.00       16      13.0                 6  \n555             1.00       10      15.0                 4  \n1038            0.00        3      59.0                 6  \n535             0.93       86      28.0                 4  \n481             0.75        8      38.0                 2  "
     },
     "execution_count": 11,
     "metadata": {},
     "output_type": "execute_result"
    }
   ],
   "source": [
    "#Dataset teste\n",
    "X_teste = df3[df_columns[(df_columns != 'marker') & (df_columns != 'averageRating') & (df_columns != 'activityId') & (df_columns != 'workerId') & (df_columns != 'date')]]\n",
    "y_teste = df3['marker']\n",
    "y_teste = to_categorical(y_teste)\n",
    "\n",
    "X_teste['companyName'] = le.fit_transform(X_teste['companyName'].astype(str))\n",
    "X_teste['establishmentName'] = le.fit_transform(X_teste['establishmentName'].astype(str))\n",
    "\n",
    "X_teste.head()"
   ]
  },
  {
   "cell_type": "code",
   "execution_count": 12,
   "metadata": {},
   "outputs": [],
   "source": [
    "#Normalizar dados\n",
    "X_train_norm = (X_train - X_train.mean()) / X_train.std()\n",
    "X_teste_norm = (X_teste - X_teste.mean()) / X_teste.std()"
   ]
  },
  {
   "cell_type": "code",
   "execution_count": 13,
   "metadata": {},
   "outputs": [],
   "source": [
    "#classification model\n",
    "def classification_model():\n",
    "    model = Sequential()\n",
    "    model.add(Dense(10, activation = 'relu', input_shape = (10,)))\n",
    "    model.add(Dense(10, activation = 'relu'))\n",
    "    model.add(Dense(10, activation = 'relu'))\n",
    "\n",
    "    #model.add(Flatten())\n",
    "    model.add(Dense(2, activation = 'softmax'))\n",
    "\n",
    "    model.compile(optimizer='adam', loss= 'categorical_crossentropy', metrics=['accuracy'])\n",
    "    \n",
    "    return model\n",
    "\n",
    "model = classification_model()"
   ]
  },
  {
   "cell_type": "code",
   "execution_count": 14,
   "metadata": {},
   "outputs": [
    {
     "name": "stdout",
     "output_type": "stream",
     "text": "Epoch 1/5\n - 0s - loss: 4.0938 - acc: 0.4700\nEpoch 2/5\n - 0s - loss: 1.2136 - acc: 0.4488\nEpoch 3/5\n - 0s - loss: 0.7777 - acc: 0.5363\nEpoch 4/5\n - 0s - loss: 0.7123 - acc: 0.5813\nEpoch 5/5\n - 0s - loss: 0.6806 - acc: 0.6013\n"
    },
    {
     "data": {
      "text/plain": "array([[5.7910669e-01, 4.2089328e-01],\n       [5.1425523e-01, 4.8574477e-01],\n       [4.3245980e-01, 5.6754017e-01],\n       [5.6288940e-01, 4.3711054e-01],\n       [5.6243873e-01, 4.3756130e-01],\n       [4.7080907e-01, 5.2919090e-01],\n       [2.3558070e-01, 7.6441938e-01],\n       [5.9708273e-01, 4.0291730e-01],\n       [1.5411276e-01, 8.4588724e-01],\n       [5.8536243e-01, 4.1463754e-01],\n       [5.3129721e-01, 4.6870282e-01],\n       [4.4128257e-01, 5.5871749e-01],\n       [5.4448873e-01, 4.5551130e-01],\n       [7.4602246e-01, 2.5397748e-01],\n       [4.4383037e-01, 5.5616957e-01],\n       [6.3770747e-01, 3.6229250e-01],\n       [5.2832335e-01, 4.7167668e-01],\n       [6.9971049e-01, 3.0028948e-01],\n       [7.1205533e-01, 2.8794464e-01],\n       [4.7607213e-01, 5.2392793e-01],\n       [4.5398337e-01, 5.4601663e-01],\n       [6.2875539e-01, 3.7124458e-01],\n       [5.3064942e-01, 4.6935055e-01],\n       [5.3961438e-01, 4.6038565e-01],\n       [4.0586790e-01, 5.9413207e-01],\n       [6.0989916e-01, 3.9010087e-01],\n       [4.4566873e-01, 5.5433124e-01],\n       [2.1127567e-01, 7.8872436e-01],\n       [5.7823473e-01, 4.2176527e-01],\n       [4.9336988e-01, 5.0663012e-01],\n       [4.8126400e-01, 5.1873600e-01],\n       [4.7195837e-01, 5.2804166e-01],\n       [4.9074766e-01, 5.0925231e-01],\n       [6.5546465e-01, 3.4453529e-01],\n       [6.4009261e-01, 3.5990742e-01],\n       [5.3507316e-01, 4.6492684e-01],\n       [7.2748071e-01, 2.7251920e-01],\n       [3.6039874e-01, 6.3960123e-01],\n       [6.2878293e-01, 3.7121713e-01],\n       [8.3112055e-01, 1.6887942e-01],\n       [5.0647604e-01, 4.9352390e-01],\n       [2.2828248e-01, 7.7171749e-01],\n       [5.4826498e-01, 4.5173499e-01],\n       [5.4304063e-01, 4.5695934e-01],\n       [1.8503283e-01, 8.1496716e-01],\n       [5.5425185e-01, 4.4574812e-01],\n       [6.0655701e-01, 3.9344302e-01],\n       [3.5403797e-01, 6.4596200e-01],\n       [5.1230603e-01, 4.8769394e-01],\n       [1.4387566e-01, 8.5612440e-01],\n       [2.5270158e-01, 7.4729836e-01],\n       [3.3844316e-01, 6.6155684e-01],\n       [4.4175464e-01, 5.5824536e-01],\n       [5.5716515e-01, 4.4283488e-01],\n       [7.0744699e-01, 2.9255304e-01],\n       [4.5521849e-01, 5.4478151e-01],\n       [5.4853100e-01, 4.5146894e-01],\n       [4.4565919e-01, 5.5434084e-01],\n       [5.8084416e-01, 4.1915587e-01],\n       [6.5418887e-01, 3.4581113e-01],\n       [6.2172866e-01, 3.7827131e-01],\n       [4.9479139e-01, 5.0520861e-01],\n       [5.2960938e-01, 4.7039062e-01],\n       [6.1258692e-01, 3.8741305e-01],\n       [4.0902352e-01, 5.9097648e-01],\n       [5.2626979e-01, 4.7373018e-01],\n       [5.1616877e-01, 4.8383117e-01],\n       [6.5464360e-01, 3.4535646e-01],\n       [5.5832237e-01, 4.4167766e-01],\n       [5.3938693e-01, 4.6061307e-01],\n       [6.4227957e-01, 3.5772040e-01],\n       [5.2513069e-01, 4.7486934e-01],\n       [4.2631960e-01, 5.7368040e-01],\n       [3.4354322e-02, 9.6564561e-01],\n       [5.5137509e-01, 4.4862491e-01],\n       [1.7675354e-01, 8.2324648e-01],\n       [3.0564553e-01, 6.9435453e-01],\n       [9.7425777e-01, 2.5742220e-02],\n       [7.1183485e-01, 2.8816518e-01],\n       [4.1645771e-01, 5.8354229e-01],\n       [6.0413265e-01, 3.9586735e-01],\n       [2.8472281e-01, 7.1527719e-01],\n       [5.0302839e-01, 4.9697158e-01],\n       [5.0764233e-01, 4.9235767e-01],\n       [5.1343262e-01, 4.8656741e-01],\n       [3.4156424e-01, 6.5843570e-01],\n       [6.6473329e-01, 3.3526668e-01],\n       [5.3547543e-01, 4.6452454e-01],\n       [5.3416085e-01, 4.6583915e-01],\n       [5.3990275e-01, 4.6009725e-01],\n       [2.7446708e-01, 7.2553301e-01],\n       [5.2839947e-01, 4.7160047e-01],\n       [5.5814153e-01, 4.4185850e-01],\n       [2.3053968e-01, 7.6946032e-01],\n       [6.1335683e-01, 3.8664314e-01],\n       [5.4375654e-01, 4.5624343e-01],\n       [4.2881012e-01, 5.7118988e-01],\n       [1.0000000e+00, 2.5798487e-08],\n       [5.3215420e-01, 4.6784580e-01],\n       [2.4786420e-01, 7.5213581e-01],\n       [4.5559880e-01, 5.4440123e-01],\n       [5.5041373e-01, 4.4958627e-01],\n       [6.1295456e-01, 3.8704544e-01],\n       [5.2128893e-01, 4.7871098e-01],\n       [5.2645230e-01, 4.7354767e-01],\n       [6.5746623e-01, 3.4253374e-01],\n       [2.5564360e-02, 9.7443569e-01],\n       [5.5168897e-01, 4.4831100e-01],\n       [4.1156289e-01, 5.8843708e-01],\n       [6.0631883e-01, 3.9368111e-01],\n       [5.4784048e-01, 4.5215952e-01],\n       [4.8991925e-01, 5.1008070e-01],\n       [1.7156485e-01, 8.2843518e-01],\n       [2.0465125e-01, 7.9534870e-01],\n       [2.6717684e-01, 7.3282319e-01],\n       [6.4495724e-01, 3.5504279e-01],\n       [6.4098334e-01, 3.5901669e-01],\n       [2.7263725e-01, 7.2736275e-01],\n       [3.4929076e-01, 6.5070927e-01],\n       [9.8063397e-01, 1.9366015e-02],\n       [3.3981061e-01, 6.6018939e-01],\n       [5.7022011e-01, 4.2977998e-01],\n       [3.1491779e-03, 9.9685079e-01],\n       [3.1225905e-01, 6.8774098e-01],\n       [5.6644815e-01, 4.3355188e-01],\n       [8.3153528e-01, 1.6846471e-01],\n       [4.6879625e-01, 5.3120375e-01],\n       [5.5061775e-01, 4.4938225e-01],\n       [7.2205633e-01, 2.7794361e-01],\n       [5.3539836e-01, 4.6460161e-01],\n       [8.1458819e-01, 1.8541183e-01],\n       [5.6878692e-01, 4.3121305e-01],\n       [5.0635064e-01, 4.9364936e-01],\n       [5.8713073e-01, 4.1286924e-01],\n       [1.2052855e-01, 8.7947142e-01],\n       [1.6964719e-02, 9.8303533e-01],\n       [5.3529918e-01, 4.6470085e-01],\n       [5.5550647e-01, 4.4449356e-01],\n       [6.2945044e-01, 3.7054956e-01],\n       [5.7187396e-01, 4.2812595e-01],\n       [6.5423167e-01, 3.4576830e-01],\n       [5.5479264e-01, 4.4520730e-01],\n       [3.7540525e-01, 6.2459475e-01],\n       [5.1404506e-01, 4.8595491e-01],\n       [3.5291964e-01, 6.4708036e-01],\n       [5.7643408e-01, 4.2356595e-01],\n       [1.2755291e-01, 8.7244707e-01],\n       [4.7630793e-01, 5.2369213e-01],\n       [4.9140537e-01, 5.0859463e-01],\n       [5.5044019e-01, 4.4955978e-01],\n       [2.2398815e-01, 7.7601182e-01],\n       [8.5666966e-01, 1.4333032e-01],\n       [5.4670060e-01, 4.5329946e-01],\n       [5.4971236e-01, 4.5028767e-01],\n       [3.3406216e-01, 6.6593778e-01],\n       [5.5304158e-01, 4.4695845e-01],\n       [4.0340060e-01, 5.9659946e-01],\n       [4.5805201e-01, 5.4194796e-01],\n       [5.1685297e-01, 4.8314703e-01],\n       [3.4403804e-01, 6.5596193e-01],\n       [5.2389038e-01, 4.7610968e-01],\n       [3.4620407e-01, 6.5379596e-01],\n       [6.6807610e-01, 3.3192393e-01],\n       [6.0383415e-01, 3.9616579e-01],\n       [4.8749110e-01, 5.1250887e-01],\n       [7.7699888e-01, 2.2300111e-01],\n       [6.0706949e-01, 3.9293042e-01],\n       [1.2764391e-01, 8.7235606e-01],\n       [5.3060061e-01, 4.6939942e-01],\n       [4.9720401e-01, 5.0279605e-01],\n       [5.4540747e-01, 4.5459253e-01],\n       [8.7414986e-01, 1.2585011e-01],\n       [5.1804680e-01, 4.8195320e-01],\n       [4.9970937e-01, 5.0029069e-01],\n       [4.5307672e-01, 5.4692328e-01],\n       [6.7457902e-01, 3.2542101e-01],\n       [4.9326885e-01, 5.0673115e-01],\n       [4.8233256e-01, 5.1766747e-01],\n       [6.4972603e-01, 3.5027391e-01],\n       [4.3356448e-02, 9.5664352e-01],\n       [6.1285132e-01, 3.8714877e-01],\n       [4.7321838e-01, 5.2678168e-01],\n       [5.2239066e-01, 4.7760937e-01],\n       [7.6988256e-01, 2.3011743e-01],\n       [4.3285626e-01, 5.6714374e-01],\n       [3.9107752e-01, 6.0892254e-01],\n       [6.0474813e-01, 3.9525187e-01],\n       [6.2453485e-01, 3.7546521e-01],\n       [8.1258607e-01, 1.8741395e-01],\n       [4.4029929e-02, 9.5597011e-01],\n       [2.2276703e-01, 7.7723300e-01],\n       [5.4400158e-01, 4.5599839e-01],\n       [1.2883821e-01, 8.7116176e-01],\n       [6.7024153e-01, 3.2975841e-01],\n       [7.6903462e-01, 2.3096538e-01],\n       [5.1920635e-01, 4.8079368e-01],\n       [5.5184579e-01, 4.4815421e-01],\n       [4.6257967e-01, 5.3742033e-01],\n       [4.7745967e-01, 5.2254027e-01],\n       [6.5107310e-01, 3.4892687e-01]], dtype=float32)"
     },
     "execution_count": 14,
     "metadata": {},
     "output_type": "execute_result"
    }
   ],
   "source": [
    "model.fit(X_train, y_train, epochs=5, verbose = 2)\n",
    "\n",
    "model.predict(X_teste) #gives the probablity that a point belongs to each class"
   ]
  },
  {
   "cell_type": "code",
   "execution_count": 15,
   "metadata": {},
   "outputs": [
    {
     "data": {
      "text/plain": "[0.6527097702026368, 0.57]"
     },
     "execution_count": 15,
     "metadata": {},
     "output_type": "execute_result"
    }
   ],
   "source": [
    "model.evaluate(X_teste, y_teste, verbose=0)"
   ]
  },
  {
   "cell_type": "code",
   "execution_count": 16,
   "metadata": {},
   "outputs": [
    {
     "data": {
      "text/plain": "['loss', 'acc']"
     },
     "execution_count": 16,
     "metadata": {},
     "output_type": "execute_result"
    }
   ],
   "source": [
    "model.metrics_names\n"
   ]
  },
  {
   "cell_type": "code",
   "execution_count": 17,
   "metadata": {},
   "outputs": [
    {
     "ename": "OSError",
     "evalue": "`pydot` failed to call GraphViz.Please install GraphViz (https://www.graphviz.org/) and ensure that its executables are in the $PATH.",
     "output_type": "error",
     "traceback": [
      "\u001b[1;31m---------------------------------------------------------------------------\u001b[0m",
      "\u001b[1;31mFileNotFoundError\u001b[0m                         Traceback (most recent call last)",
      "\u001b[1;32m~\\AppData\\Local\\Programs\\Python\\Python36\\lib\\site-packages\\pydot.py\u001b[0m in \u001b[0;36mcreate\u001b[1;34m(self, prog, format, encoding)\u001b[0m\n\u001b[0;32m   1914\u001b[0m                 \u001b[0marguments\u001b[0m\u001b[1;33m=\u001b[0m\u001b[0marguments\u001b[0m\u001b[1;33m,\u001b[0m\u001b[1;33m\u001b[0m\u001b[0m\n\u001b[1;32m-> 1915\u001b[1;33m                 \u001b[0mworking_dir\u001b[0m\u001b[1;33m=\u001b[0m\u001b[0mtmp_dir\u001b[0m\u001b[1;33m,\u001b[0m\u001b[1;33m\u001b[0m\u001b[0m\n\u001b[0m\u001b[0;32m   1916\u001b[0m             )\n",
      "\u001b[1;32m~\\AppData\\Local\\Programs\\Python\\Python36\\lib\\site-packages\\pydot.py\u001b[0m in \u001b[0;36mcall_graphviz\u001b[1;34m(program, arguments, working_dir, **kwargs)\u001b[0m\n\u001b[0;32m    135\u001b[0m         \u001b[0mstdout\u001b[0m\u001b[1;33m=\u001b[0m\u001b[0msubprocess\u001b[0m\u001b[1;33m.\u001b[0m\u001b[0mPIPE\u001b[0m\u001b[1;33m,\u001b[0m\u001b[1;33m\u001b[0m\u001b[0m\n\u001b[1;32m--> 136\u001b[1;33m         \u001b[1;33m**\u001b[0m\u001b[0mkwargs\u001b[0m\u001b[1;33m\u001b[0m\u001b[0m\n\u001b[0m\u001b[0;32m    137\u001b[0m     )\n",
      "\u001b[1;32m~\\AppData\\Local\\Programs\\Python\\Python36\\lib\\subprocess.py\u001b[0m in \u001b[0;36m__init__\u001b[1;34m(self, args, bufsize, executable, stdin, stdout, stderr, preexec_fn, close_fds, shell, cwd, env, universal_newlines, startupinfo, creationflags, restore_signals, start_new_session, pass_fds, encoding, errors)\u001b[0m\n\u001b[0;32m    708\u001b[0m                                 \u001b[0merrread\u001b[0m\u001b[1;33m,\u001b[0m \u001b[0merrwrite\u001b[0m\u001b[1;33m,\u001b[0m\u001b[1;33m\u001b[0m\u001b[0m\n\u001b[1;32m--> 709\u001b[1;33m                                 restore_signals, start_new_session)\n\u001b[0m\u001b[0;32m    710\u001b[0m         \u001b[1;32mexcept\u001b[0m\u001b[1;33m:\u001b[0m\u001b[1;33m\u001b[0m\u001b[0m\n",
      "\u001b[1;32m~\\AppData\\Local\\Programs\\Python\\Python36\\lib\\subprocess.py\u001b[0m in \u001b[0;36m_execute_child\u001b[1;34m(self, args, executable, preexec_fn, close_fds, pass_fds, cwd, env, startupinfo, creationflags, shell, p2cread, p2cwrite, c2pread, c2pwrite, errread, errwrite, unused_restore_signals, unused_start_new_session)\u001b[0m\n\u001b[0;32m    996\u001b[0m                                          \u001b[0mos\u001b[0m\u001b[1;33m.\u001b[0m\u001b[0mfspath\u001b[0m\u001b[1;33m(\u001b[0m\u001b[0mcwd\u001b[0m\u001b[1;33m)\u001b[0m \u001b[1;32mif\u001b[0m \u001b[0mcwd\u001b[0m \u001b[1;32mis\u001b[0m \u001b[1;32mnot\u001b[0m \u001b[1;32mNone\u001b[0m \u001b[1;32melse\u001b[0m \u001b[1;32mNone\u001b[0m\u001b[1;33m,\u001b[0m\u001b[1;33m\u001b[0m\u001b[0m\n\u001b[1;32m--> 997\u001b[1;33m                                          startupinfo)\n\u001b[0m\u001b[0;32m    998\u001b[0m             \u001b[1;32mfinally\u001b[0m\u001b[1;33m:\u001b[0m\u001b[1;33m\u001b[0m\u001b[0m\n",
      "\u001b[1;31mFileNotFoundError\u001b[0m: [WinError 2] O sistema não pode encontrar o arquivo especificado",
      "\nDuring handling of the above exception, another exception occurred:\n",
      "\u001b[1;31mFileNotFoundError\u001b[0m                         Traceback (most recent call last)",
      "\u001b[1;32m~\\AppData\\Local\\Programs\\Python\\Python36\\lib\\site-packages\\keras\\utils\\vis_utils.py\u001b[0m in \u001b[0;36m_check_pydot\u001b[1;34m()\u001b[0m\n\u001b[0;32m     25\u001b[0m         \u001b[1;31m# to check the pydot/graphviz installation.\u001b[0m\u001b[1;33m\u001b[0m\u001b[1;33m\u001b[0m\u001b[0m\n\u001b[1;32m---> 26\u001b[1;33m         \u001b[0mpydot\u001b[0m\u001b[1;33m.\u001b[0m\u001b[0mDot\u001b[0m\u001b[1;33m.\u001b[0m\u001b[0mcreate\u001b[0m\u001b[1;33m(\u001b[0m\u001b[0mpydot\u001b[0m\u001b[1;33m.\u001b[0m\u001b[0mDot\u001b[0m\u001b[1;33m(\u001b[0m\u001b[1;33m)\u001b[0m\u001b[1;33m)\u001b[0m\u001b[1;33m\u001b[0m\u001b[0m\n\u001b[0m\u001b[0;32m     27\u001b[0m     \u001b[1;32mexcept\u001b[0m \u001b[0mOSError\u001b[0m\u001b[1;33m:\u001b[0m\u001b[1;33m\u001b[0m\u001b[0m\n",
      "\u001b[1;32m~\\AppData\\Local\\Programs\\Python\\Python36\\lib\\site-packages\\pydot.py\u001b[0m in \u001b[0;36mcreate\u001b[1;34m(self, prog, format, encoding)\u001b[0m\n\u001b[0;32m   1921\u001b[0m                     prog=prog)\n\u001b[1;32m-> 1922\u001b[1;33m                 \u001b[1;32mraise\u001b[0m \u001b[0mOSError\u001b[0m\u001b[1;33m(\u001b[0m\u001b[1;33m*\u001b[0m\u001b[0margs\u001b[0m\u001b[1;33m)\u001b[0m\u001b[1;33m\u001b[0m\u001b[0m\n\u001b[0m\u001b[0;32m   1923\u001b[0m             \u001b[1;32melse\u001b[0m\u001b[1;33m:\u001b[0m\u001b[1;33m\u001b[0m\u001b[0m\n",
      "\u001b[1;31mFileNotFoundError\u001b[0m: [WinError 2] \"dot\" not found in path.",
      "\nDuring handling of the above exception, another exception occurred:\n",
      "\u001b[1;31mOSError\u001b[0m                                   Traceback (most recent call last)",
      "\u001b[1;32m<ipython-input-17-a068fd2fd5a7>\u001b[0m in \u001b[0;36m<module>\u001b[1;34m\u001b[0m\n\u001b[0;32m      1\u001b[0m \u001b[1;32mfrom\u001b[0m \u001b[0mkeras\u001b[0m\u001b[1;33m.\u001b[0m\u001b[0mutils\u001b[0m \u001b[1;32mimport\u001b[0m \u001b[0mplot_model\u001b[0m\u001b[1;33m\u001b[0m\u001b[0m\n\u001b[0;32m      2\u001b[0m \u001b[1;33m\u001b[0m\u001b[0m\n\u001b[1;32m----> 3\u001b[1;33m \u001b[0mplot_model\u001b[0m\u001b[1;33m(\u001b[0m\u001b[0mmodel\u001b[0m\u001b[1;33m,\u001b[0m \u001b[0mto_file\u001b[0m\u001b[1;33m=\u001b[0m\u001b[1;34m'model.png'\u001b[0m\u001b[1;33m)\u001b[0m\u001b[1;33m\u001b[0m\u001b[0m\n\u001b[0m",
      "\u001b[1;32m~\\AppData\\Local\\Programs\\Python\\Python36\\lib\\site-packages\\keras\\utils\\vis_utils.py\u001b[0m in \u001b[0;36mplot_model\u001b[1;34m(model, to_file, show_shapes, show_layer_names, rankdir)\u001b[0m\n\u001b[0;32m    130\u001b[0m             \u001b[1;34m'LR'\u001b[0m \u001b[0mcreates\u001b[0m \u001b[0ma\u001b[0m \u001b[0mhorizontal\u001b[0m \u001b[0mplot\u001b[0m\u001b[1;33m.\u001b[0m\u001b[1;33m\u001b[0m\u001b[0m\n\u001b[0;32m    131\u001b[0m     \"\"\"\n\u001b[1;32m--> 132\u001b[1;33m     \u001b[0mdot\u001b[0m \u001b[1;33m=\u001b[0m \u001b[0mmodel_to_dot\u001b[0m\u001b[1;33m(\u001b[0m\u001b[0mmodel\u001b[0m\u001b[1;33m,\u001b[0m \u001b[0mshow_shapes\u001b[0m\u001b[1;33m,\u001b[0m \u001b[0mshow_layer_names\u001b[0m\u001b[1;33m,\u001b[0m \u001b[0mrankdir\u001b[0m\u001b[1;33m)\u001b[0m\u001b[1;33m\u001b[0m\u001b[0m\n\u001b[0m\u001b[0;32m    133\u001b[0m     \u001b[0m_\u001b[0m\u001b[1;33m,\u001b[0m \u001b[0mextension\u001b[0m \u001b[1;33m=\u001b[0m \u001b[0mos\u001b[0m\u001b[1;33m.\u001b[0m\u001b[0mpath\u001b[0m\u001b[1;33m.\u001b[0m\u001b[0msplitext\u001b[0m\u001b[1;33m(\u001b[0m\u001b[0mto_file\u001b[0m\u001b[1;33m)\u001b[0m\u001b[1;33m\u001b[0m\u001b[0m\n\u001b[0;32m    134\u001b[0m     \u001b[1;32mif\u001b[0m \u001b[1;32mnot\u001b[0m \u001b[0mextension\u001b[0m\u001b[1;33m:\u001b[0m\u001b[1;33m\u001b[0m\u001b[0m\n",
      "\u001b[1;32m~\\AppData\\Local\\Programs\\Python\\Python36\\lib\\site-packages\\keras\\utils\\vis_utils.py\u001b[0m in \u001b[0;36mmodel_to_dot\u001b[1;34m(model, show_shapes, show_layer_names, rankdir)\u001b[0m\n\u001b[0;32m     53\u001b[0m     \u001b[1;32mfrom\u001b[0m \u001b[1;33m.\u001b[0m\u001b[1;33m.\u001b[0m\u001b[0mmodels\u001b[0m \u001b[1;32mimport\u001b[0m \u001b[0mSequential\u001b[0m\u001b[1;33m\u001b[0m\u001b[0m\n\u001b[0;32m     54\u001b[0m \u001b[1;33m\u001b[0m\u001b[0m\n\u001b[1;32m---> 55\u001b[1;33m     \u001b[0m_check_pydot\u001b[0m\u001b[1;33m(\u001b[0m\u001b[1;33m)\u001b[0m\u001b[1;33m\u001b[0m\u001b[0m\n\u001b[0m\u001b[0;32m     56\u001b[0m     \u001b[0mdot\u001b[0m \u001b[1;33m=\u001b[0m \u001b[0mpydot\u001b[0m\u001b[1;33m.\u001b[0m\u001b[0mDot\u001b[0m\u001b[1;33m(\u001b[0m\u001b[1;33m)\u001b[0m\u001b[1;33m\u001b[0m\u001b[0m\n\u001b[0;32m     57\u001b[0m     \u001b[0mdot\u001b[0m\u001b[1;33m.\u001b[0m\u001b[0mset\u001b[0m\u001b[1;33m(\u001b[0m\u001b[1;34m'rankdir'\u001b[0m\u001b[1;33m,\u001b[0m \u001b[0mrankdir\u001b[0m\u001b[1;33m)\u001b[0m\u001b[1;33m\u001b[0m\u001b[0m\n",
      "\u001b[1;32m~\\AppData\\Local\\Programs\\Python\\Python36\\lib\\site-packages\\keras\\utils\\vis_utils.py\u001b[0m in \u001b[0;36m_check_pydot\u001b[1;34m()\u001b[0m\n\u001b[0;32m     27\u001b[0m     \u001b[1;32mexcept\u001b[0m \u001b[0mOSError\u001b[0m\u001b[1;33m:\u001b[0m\u001b[1;33m\u001b[0m\u001b[0m\n\u001b[0;32m     28\u001b[0m         raise OSError(\n\u001b[1;32m---> 29\u001b[1;33m             \u001b[1;34m'`pydot` failed to call GraphViz.'\u001b[0m\u001b[1;33m\u001b[0m\u001b[0m\n\u001b[0m\u001b[0;32m     30\u001b[0m             \u001b[1;34m'Please install GraphViz (https://www.graphviz.org/) '\u001b[0m\u001b[1;33m\u001b[0m\u001b[0m\n\u001b[0;32m     31\u001b[0m             'and ensure that its executables are in the $PATH.')\n",
      "\u001b[1;31mOSError\u001b[0m: `pydot` failed to call GraphViz.Please install GraphViz (https://www.graphviz.org/) and ensure that its executables are in the $PATH."
     ]
    }
   ],
   "source": [
    "from keras.utils import plot_model\n",
    "\n",
    "plot_model(model, to_file='model.png')"
   ]
  },
  {
   "cell_type": "code",
   "execution_count": null,
   "metadata": {},
   "outputs": [],
   "source": [
    "#https://keras.io/getting-started/sequential-model-guide/"
   ]
  }
 ]
}